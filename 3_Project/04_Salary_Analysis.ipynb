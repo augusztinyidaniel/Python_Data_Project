{
 "cells": [
  {
   "cell_type": "markdown",
   "metadata": {},
   "source": [
    "# How well do jobs and skills pay for Data Analysts?\n",
    "\n",
    "#### Methodology\n",
    "1. Evaluate median salary for all data jobs\n",
    "2. Find median salary per skill for Data Analysts\n",
    "3. Visualize for highest paying skills\n",
    "4. Visualize for highest demand skills\n",
    "\n",
    "#### Original Exploration\n",
    "\n",
    "[18_Matplotlib_Box_Plots.ipynb](18_Matplotlib_Box_Plots.ipynb)\n",
    "\n",
    "[19_Exercise_Skill_Pay_Analysis.ipynb](19_Exercise_Skill_Pay_Analysis.ipynb)"
   ]
  },
  {
   "cell_type": "code",
   "execution_count": null,
   "metadata": {},
   "outputs": [],
   "source": []
  }
 ],
 "metadata": {
  "kernelspec": {
   "display_name": "python_course",
   "language": "python",
   "name": "python3"
  },
  "language_info": {
   "name": "python",
   "version": "3.11.9"
  }
 },
 "nbformat": 4,
 "nbformat_minor": 2
}
