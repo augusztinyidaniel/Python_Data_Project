{
 "cells": [
  {
   "cell_type": "markdown",
   "metadata": {},
   "source": [
    "# How are in-demand skills trending for Data Analysts?\n",
    "\n",
    "#### Methodology\n",
    "1. Aggregate skill counts monthly\n",
    "2. Plot the monthly skill counts\n",
    "3. Re-analyze based on percentage of total jobs\n",
    "4. Plot the monthly skill demand\n",
    "\n",
    "#### Original Exploration\n",
    "\n",
    "[12_Exercise_Trending_Skills.ipynb](12_Exercise_Trending_Skills.ipynb)"
   ]
  },
  {
   "cell_type": "markdown",
   "metadata": {},
   "source": [
    "## Import Libraries and Data"
   ]
  },
  {
   "cell_type": "code",
   "execution_count": null,
   "metadata": {},
   "outputs": [],
   "source": []
  }
 ],
 "metadata": {
  "kernelspec": {
   "display_name": "python_course",
   "language": "python",
   "name": "python3"
  },
  "language_info": {
   "name": "python",
   "version": "3.11.9"
  }
 },
 "nbformat": 4,
 "nbformat_minor": 2
}
