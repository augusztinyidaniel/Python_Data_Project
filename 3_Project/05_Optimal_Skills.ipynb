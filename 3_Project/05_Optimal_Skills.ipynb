{
 "cells": [
  {
   "cell_type": "markdown",
   "metadata": {},
   "source": [
    "# What is the most optimal skill to learn for Data Analysts?\n",
    "\n",
    "#### Methodology\n",
    "1. Continue from last notebook to find percent of postings with skill\n",
    "2. Visualize median salary vs percent skill demand\n",
    "3. (Optional) Determine if certain technologies are more prevalent\n",
    "\n",
    "#### Original Exploration\n",
    "[15_Matplotlib_Scatter_Plots.ipynb](15_Matplotlib_Scatter_Plots.ipynb)\n",
    "\n",
    "[16_Matplotlib_Advanced_Customization.ipynb](16_Matplotlib_Advanced_Customization.ipynb)"
   ]
  },
  {
   "cell_type": "markdown",
   "metadata": {},
   "source": [
    "## Import Libraries and Data\n",
    "\n",
    "Import the libraries, data and change the `job_posted_date` to a datetime type."
   ]
  },
  {
   "cell_type": "code",
   "execution_count": null,
   "metadata": {},
   "outputs": [],
   "source": []
  }
 ],
 "metadata": {
  "kernelspec": {
   "display_name": "python_course",
   "language": "python",
   "name": "python3"
  },
  "language_info": {
   "name": "python",
   "version": "3.11.9"
  }
 },
 "nbformat": 4,
 "nbformat_minor": 2
}
